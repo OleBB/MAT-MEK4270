{
 "cells": [
  {
   "cell_type": "code",
   "execution_count": 50,
   "metadata": {},
   "outputs": [],
   "source": [
    "import numpy as np\n",
    "import matplotlib.pyplot as plt\n",
    "import scipy.sparse as sparse\n",
    "import sympy as sp\n",
    "from sympy.utilities.lambdify import implemented_function"
   ]
  },
  {
   "cell_type": "code",
   "execution_count": null,
   "metadata": {},
   "outputs": [],
   "source": [
    "# Creating a 3x3 matrix with NumPy\n",
    "matrix = np.array([\n",
    "    [1, 2, 3],\n",
    "    [4, 5, 6],\n",
    "    [7, 8, 9]\n",
    "])\n",
    "print(matrix) # Print the matrix"
   ]
  },
  {
   "cell_type": "code",
   "execution_count": null,
   "metadata": {},
   "outputs": [],
   "source": [
    "K = np.eye(10)\n",
    "display(A)\n",
    "K[0, :6] = np.array([0,1,2,3,4,5])\n",
    "display(K)"
   ]
  },
  {
   "cell_type": "code",
   "execution_count": null,
   "metadata": {},
   "outputs": [],
   "source": [
    "B = K\n",
    "B[-1, -6:] = np.array([10, 9, 8, 7, 6, 5])\n",
    "display(B)"
   ]
  },
  {
   "cell_type": "code",
   "execution_count": null,
   "metadata": {},
   "outputs": [],
   "source": [
    "antall = 15\n",
    "vektor = np.linspace(0, antall)\n",
    "print(vektor)\n"
   ]
  },
  {
   "cell_type": "code",
   "execution_count": null,
   "metadata": {},
   "outputs": [],
   "source": [
    "\n",
    "Nt = 10\n",
    "A = np.eye(Nt)\n",
    "A[0, :6] = 1, 0, 0, 0, 0, 0\n",
    "A[-1, -6:] = 0, 0, 0, 0, 0, 1\n",
    "\n",
    "b = np.zeros(Nt+1)\n",
    "b[0] = 1\n",
    "b[-1] = 1\n",
    "u = sparse.linalg.spsolve(A.tocsr(), b)"
   ]
  },
  {
   "cell_type": "code",
   "execution_count": null,
   "metadata": {},
   "outputs": [],
   "source": [
    "# If A is dense, convert it to a sparse matrix\n",
    "A_dense = np.array([\n",
    "    [3, 0, 0, 0, 1],\n",
    "    [0, 4, 0, 0, 2],\n",
    "    [0, 0, 5, 0, 0],\n",
    "    [0, 0, 0, 6, 0],\n",
    "    [1, 2, 0, 0, 7]\n",
    "])\n",
    "\n",
    "# Convert A to sparse matrix\n",
    "A_sparse = sparse.csr_matrix(A_dense)\n",
    "\n",
    "# Example right-hand side vector b\n",
    "b_d = np.array([1, 2, 3, 4, 5])\n",
    "\n",
    "# Solve the linear system A * u = b\n",
    "u_d = sparse.linalg.spsolve(A_sparse, b_d)\n",
    "\n",
    "print(\"Solution u:\", u_d)"
   ]
  },
  {
   "cell_type": "code",
   "execution_count": 59,
   "metadata": {},
   "outputs": [
    {
     "name": "stdout",
     "output_type": "stream",
     "text": [
      "[[-18.   9.   0.   0.   0.   0.   0.]\n",
      " [  9. -18.   9.   0.   0.   0.   0.]\n",
      " [  0.   9. -18.   9.   0.   0.   0.]\n",
      " [  0.   0.   9. -18.   9.   0.   0.]\n",
      " [  0.   0.   0.   9. -18.   9.   0.]\n",
      " [  0.   0.   0.   0.   9. -18.   9.]\n",
      " [  0.   0.   0.   0.   0.   9. -18.]]\n"
     ]
    }
   ],
   "source": [
    "N = 6; L = 2; dx = L/N\n",
    "D = sparse.diags([1, -2, 1], [-1, 0, 1], (N+1, N+1),'lil') #removed ,'lil')\n",
    "#D[0, :3] = 2, -5, 4\n",
    "#D[-1, -3:] = -1, 4, -5\n",
    "D /= dx**2\n",
    "D_dense = D.toarray()# Convert the sparse matrix to a dense array to display in full\n",
    "print(D_dense)# Print the dense array"
   ]
  },
  {
   "cell_type": "code",
   "execution_count": 68,
   "metadata": {},
   "outputs": [
    {
     "name": "stdout",
     "output_type": "stream",
     "text": [
      "[[  2.  -5.   4.   0.   0.   0.   0.]\n",
      " [  1. -20.   1.   0.   0.   0.   0.]\n",
      " [  0.   1. -20.   1.   0.   0.   0.]\n",
      " [  0.   0.   1. -20.   1.   0.   0.]\n",
      " [  0.   0.   0.   1. -20.   1.   0.]\n",
      " [  0.   0.   0.   0.   1. -20.   1.]\n",
      " [  0.   0.   0.   0.  -1.   4.  -5.]]\n"
     ]
    }
   ],
   "source": [
    "tom = sparse.diags([1, -20, 1], [-1, 0, 1], (N+1, N+1), 'lil') #removed ,'lil')\n",
    "tom[0, :3] = 2, -5, 4\n",
    "tom[-1, -3:] = -1, 4, -5\n",
    "tom_dense = tom.toarray()# Convert the sparse matrix to a dense array to display in full\n",
    "print(tom_dense)# Print the dense array"
   ]
  },
  {
   "cell_type": "code",
   "execution_count": null,
   "metadata": {},
   "outputs": [],
   "source": [
    "# Create a large matrix\n",
    "matrix = np.random.rand(10, 10)  # Example with 10x10 matrix\n",
    "np.set_printoptions(precision=3, suppress=True) # Set print options\n",
    "print(np.array_str(D, max_line_width=np.inf))"
   ]
  },
  {
   "cell_type": "code",
   "execution_count": null,
   "metadata": {},
   "outputs": [],
   "source": [
    "def pretty_print_matrix(D):\n",
    "    for row in D:\n",
    "        print(\" \".join(f\"{val:.3f}\" for val in row))\n",
    "# Call the pretty print function\n",
    "pretty_print_matrix(D)"
   ]
  },
  {
   "cell_type": "code",
   "execution_count": null,
   "metadata": {},
   "outputs": [],
   "source": [
    "rounded_matrix = np.round(D, decimals=1)\n",
    "print(rounded_matrix)"
   ]
  },
  {
   "cell_type": "code",
   "execution_count": null,
   "metadata": {},
   "outputs": [],
   "source": []
  },
  {
   "cell_type": "markdown",
   "metadata": {},
   "source": []
  }
 ],
 "metadata": {
  "kernelspec": {
   "display_name": ".venv",
   "language": "python",
   "name": "python3"
  },
  "language_info": {
   "codemirror_mode": {
    "name": "ipython",
    "version": 3
   },
   "file_extension": ".py",
   "mimetype": "text/x-python",
   "name": "python",
   "nbconvert_exporter": "python",
   "pygments_lexer": "ipython3",
   "version": "3.11.8"
  }
 },
 "nbformat": 4,
 "nbformat_minor": 2
}
